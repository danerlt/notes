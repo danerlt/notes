{
 "cells": [
  {
   "cell_type": "markdown",
   "id": "430762c0-cde5-46e6-9d26-b2826d3dea9e",
   "metadata": {},
   "source": [
    "# dis Python 字节码反汇编器\n",
    "\n",
    "**注意：字节码是 CPython 解释器的实现细节，不同的 CPython 可能实现细节不一样。**\n",
    "\n"
   ]
  },
  {
   "cell_type": "markdown",
   "id": "20014c36-d9cd-4d36-8c52-37f6e260ee88",
   "metadata": {},
   "source": [
    "用法如下：\n",
    "\n",
    "示例：给定函数 myfunc():"
   ]
  },
  {
   "cell_type": "code",
   "execution_count": 1,
   "id": "d751e55f-92d8-4666-8aa7-d8a7386fb6c7",
   "metadata": {},
   "outputs": [],
   "source": [
    "def myfunc(alist):\n",
    "    return len(alist)"
   ]
  },
  {
   "cell_type": "markdown",
   "id": "ae3f3f8b-24c8-4fe7-b1b0-34d81c57d6de",
   "metadata": {},
   "source": [
    "可以使用以下命令显示 myfunc() 的反汇编："
   ]
  },
  {
   "cell_type": "code",
   "execution_count": 4,
   "id": "53254d6e-6e4e-4044-b7e5-98245fda42fd",
   "metadata": {},
   "outputs": [
    {
     "name": "stdout",
     "output_type": "stream",
     "text": [
      "  2           0 LOAD_GLOBAL              0 (len)\n",
      "              2 LOAD_FAST                0 (alist)\n",
      "              4 CALL_FUNCTION            1\n",
      "              6 RETURN_VALUE\n"
     ]
    }
   ],
   "source": [
    "import dis\n",
    "dis.dis(myfunc)"
   ]
  },
  {
   "cell_type": "markdown",
   "id": "308473f4-6b4f-4201-9312-b69f736bab4b",
   "metadata": {},
   "source": [
    "或者使用`python -m dis [-h] [infile]`查看对应文件的字节码"
   ]
  },
  {
   "cell_type": "markdown",
   "id": "7f6e669e-fce6-4060-8b27-97a513ed2ce5",
   "metadata": {},
   "source": [
    "Dis的结果其实很容易阅读：\n",
    "\n",
    "- 第一列：对应的源代码行数。\n",
    "- 第二列：对应的内存字节码的索引位置。在第一列和第二列之间的 `>>` 号表示跳转的目标 \n",
    "- 第三列：字节码（opcode）。\n",
    "- 第四列：字节码（opcode）对应的参数。\n",
    "- 第五列：人类可读的参数。"
   ]
  },
  {
   "cell_type": "markdown",
   "id": "36234e7c-5a91-4041-9c72-87feee91c823",
   "metadata": {},
   "source": [
    "解释器栈称为 STACK 并像描述 Python 列表一样描述对它的操作。 栈顶对应于该语言中的 STACK[-1]。"
   ]
  },
  {
   "cell_type": "markdown",
   "id": "dc24c2ed-72d1-4835-8aa5-0392778d7377",
   "metadata": {},
   "source": [
    "## 常见字节码说明"
   ]
  },
  {
   "cell_type": "code",
   "execution_count": 8,
   "id": "e23a20e7-4912-4285-b48f-905a26453cc8",
   "metadata": {},
   "outputs": [
    {
     "name": "stdout",
     "output_type": "stream",
     "text": [
      "  1           0 LOAD_CONST               0 (1)\n",
      "              2 STORE_NAME               0 (a)\n",
      "              4 LOAD_CONST               0 (1)\n",
      "              6 STORE_NAME               1 (b)\n",
      "              8 LOAD_CONST               1 (None)\n",
      "             10 RETURN_VALUE\n"
     ]
    }
   ],
   "source": [
    "dis.dis(\"a=1;b=1\")"
   ]
  },
  {
   "cell_type": "code",
   "execution_count": null,
   "id": "57a12204-544b-477e-8924-c83db1654e3a",
   "metadata": {},
   "outputs": [],
   "source": []
  }
 ],
 "metadata": {
  "kernelspec": {
   "display_name": "Python 3 (ipykernel)",
   "language": "python",
   "name": "python3"
  },
  "language_info": {
   "codemirror_mode": {
    "name": "ipython",
    "version": 3
   },
   "file_extension": ".py",
   "mimetype": "text/x-python",
   "name": "python",
   "nbconvert_exporter": "python",
   "pygments_lexer": "ipython3",
   "version": "3.10.14"
  }
 },
 "nbformat": 4,
 "nbformat_minor": 5
}
